{
 "cells": [
  {
   "cell_type": "code",
   "execution_count": 10,
   "metadata": {},
   "outputs": [],
   "source": [
    "#task4.1\n",
    "import cv2\n",
    "import numpy as np\n",
    "\n",
    "photo = np.zeros((400,700,3))\n",
    "font= cv2.FONT_HERSHEY_TRIPLEX\n",
    "cv2.putText(photo, ' Linux World ', (50, 130),  font, \n",
    "                   3, (0,0,255), 4 , cv2.LINE_AA )\n",
    "\n",
    "start_point = (250, 250)\n",
    "end_point = (170, 250)\n",
    "color = (0, 255, 56)\n",
    "thickness = 5\n",
    "#image1 = cv2.line(photo, start_point, end_point, color, thickness)\n",
    "start_point = (250, 250)\n",
    "end_point = (250, 350)\n",
    "#cv2.line(photo, start_point, end_point, color, thickness)\n",
    "#cv2.circle(photo, (250,250), 100, (255,0,0) , 3)\n",
    "#cv2.circle(photo, (250,250), 5, (0,255,0), 5)\n",
    "center_coordinates = (200,200)\n",
    "radius = 50\n",
    "color = (255,0,0)\n",
    "thickness = 10\n",
    "#Blue Ring\n",
    "cv2.circle(photo, center_coordinates, radius, color, thickness)\n",
    "#Yellow rinh\n",
    "center_coordinates = (280,250)\n",
    "color = (0,242,255)\n",
    "cv2.circle(photo, center_coordinates, radius, color, thickness)\n",
    "#White ring\n",
    "center_coordinates = (360,200)\n",
    "color = (255,255,255)\n",
    "cv2.circle(photo, center_coordinates, radius, color, thickness)\n",
    "#green Ring\n",
    "center_coordinates = (440,250)\n",
    "color = (0,255,0)\n",
    "cv2.circle(photo, center_coordinates, radius, color, thickness)\n",
    "#red ring\n",
    "center_coordinates = (520,200)\n",
    "color = (0,0,255)\n",
    "cv2.circle(photo, center_coordinates, radius, color, thickness)\n",
    "\n",
    "\n",
    "\n",
    "\n",
    "cv2.imshow('ph' , photo)\n",
    "cv2.waitKey()\n",
    "cv2.destroyAllWindows()"
   ]
  },
  {
   "cell_type": "code",
   "execution_count": null,
   "metadata": {},
   "outputs": [],
   "source": []
  },
  {
   "cell_type": "code",
   "execution_count": 11,
   "metadata": {},
   "outputs": [],
   "source": [
    "#task4.2\n",
    "pic1= cv2.imread(\"android1.jpg\")   #reading images 1 \n",
    "pic1= cv2.resize(pic1, (300,500))  #resizing image as crop operation work on images with same size\n",
    "cv2.imshow(\"picture1\", pic1)          #displaying image\n",
    "cv2.waitKey()\n",
    "cv2.destroyAllWindows()"
   ]
  },
  {
   "cell_type": "code",
   "execution_count": 12,
   "metadata": {},
   "outputs": [],
   "source": [
    "pic2= cv2.imread(\"android.jpg\")\n",
    "pic2=cv2.resize(pic2, (300,500))\n",
    "cv2.imshow(\"picture2\", pic2)\n",
    "cv2.waitKey()\n",
    "cv2.destroyAllWindows()"
   ]
  },
  {
   "cell_type": "code",
   "execution_count": 13,
   "metadata": {},
   "outputs": [],
   "source": [
    "croped_pic1 = pic1[0:500, :150 ]  # cropping 1st image\n",
    "croped_pic2=  pic2[0:500, :150 ]  # cropping 2nd image\n",
    "cv2.imshow(\"croped_1\", croped_pic1)\n",
    "cv2.imshow(\"croped_2\", croped_pic2)\n",
    "cv2.waitKey()\n",
    "cv2.destroyAllWindows()"
   ]
  },
  {
   "cell_type": "code",
   "execution_count": 14,
   "metadata": {},
   "outputs": [],
   "source": [
    "#saving cropped images as numpy array for swaping\n",
    "croped_pic1 = np.copy(croped_pic1) \n",
    "croped_pic2 = np.copy(croped_pic2)"
   ]
  },
  {
   "cell_type": "code",
   "execution_count": 15,
   "metadata": {},
   "outputs": [],
   "source": [
    "pic1[0:500, :150 ] = croped_pic2\n",
    "pic2[0:500, :150 ] = croped_pic1"
   ]
  },
  {
   "cell_type": "code",
   "execution_count": 16,
   "metadata": {},
   "outputs": [],
   "source": [
    "cv2.imshow(\"Picture1\", pic1)\n",
    "cv2.imshow(\"Picture2\", pic2)\n",
    "cv2.waitKey()\n",
    "cv2.destroyAllWindows()\n",
    "\n"
   ]
  },
  {
   "cell_type": "code",
   "execution_count": null,
   "metadata": {},
   "outputs": [],
   "source": []
  },
  {
   "cell_type": "code",
   "execution_count": 17,
   "metadata": {},
   "outputs": [],
   "source": [
    "#task4.3\n",
    "img1= cv2.imread(\"v.jpg\") \n",
    "img1= cv2.resize(img1, (500,200))\n",
    "img2= cv2.imread(\"w.jpg\") \n",
    "img2= cv2.resize(img2, (500,200))\n",
    "\n",
    "\n",
    "\n",
    "horizontal_img = np.hstack([img1, img2])\n",
    "\n",
    "\n",
    "vertical_img = np.vstack([img1,img2])\n",
    "\n",
    "\n",
    "\n",
    "cv2.imshow('Horizontal_collage', horizontal_img)\n",
    "cv2.imshow('vertical_collage', vertical_img)\n",
    "\n",
    "cv2.waitKey()\n",
    "cv2.destroyAllWindows()"
   ]
  },
  {
   "cell_type": "code",
   "execution_count": null,
   "metadata": {},
   "outputs": [],
   "source": []
  }
 ],
 "metadata": {
  "kernelspec": {
   "display_name": "Python 3",
   "language": "python",
   "name": "python3"
  },
  "language_info": {
   "codemirror_mode": {
    "name": "ipython",
    "version": 3
   },
   "file_extension": ".py",
   "mimetype": "text/x-python",
   "name": "python",
   "nbconvert_exporter": "python",
   "pygments_lexer": "ipython3",
   "version": "3.8.5"
  }
 },
 "nbformat": 4,
 "nbformat_minor": 4
}
